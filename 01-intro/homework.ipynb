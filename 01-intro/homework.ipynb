{
 "cells": [
  {
   "cell_type": "markdown",
   "metadata": {},
   "source": [
    "## MLOps Zoomcamp: Homework for Module 1\n",
    "\n",
    "By: Matheus Moreno"
   ]
  },
  {
   "cell_type": "markdown",
   "metadata": {},
   "source": [
    "### Step 1: Import modules"
   ]
  },
  {
   "cell_type": "code",
   "execution_count": 55,
   "metadata": {},
   "outputs": [],
   "source": [
    "import pandas as pd\n",
    "from sklearn.feature_extraction import DictVectorizer\n",
    "from sklearn.linear_model import LinearRegression\n",
    "from sklearn.metrics import mean_squared_error"
   ]
  },
  {
   "cell_type": "markdown",
   "metadata": {},
   "source": [
    "### Step 2: Define constants"
   ]
  },
  {
   "cell_type": "code",
   "execution_count": 56,
   "metadata": {},
   "outputs": [],
   "source": [
    "CATEGORICAL = ['PUlocationID', 'DOlocationID']\n",
    "TARGET = 'duration'"
   ]
  },
  {
   "cell_type": "markdown",
   "metadata": {},
   "source": [
    "### Step 3: Define functions"
   ]
  },
  {
   "cell_type": "code",
   "execution_count": 57,
   "metadata": {},
   "outputs": [],
   "source": [
    "def read_dataframe(path: str) -> pd.DataFrame:\n",
    "    \"\"\"Read a DataFrame and executes the required preprocessing.\"\"\"\n",
    "    # Retrieve Parquet file\n",
    "    dataframe = pd.read_parquet(path)\n",
    "    print(f\"Retrieved dataset {path} of size {dataframe.shape}.\")\n",
    "\n",
    "    # Generate duration column\n",
    "    dataframe['duration'] = dataframe.dropOff_datetime - dataframe.pickup_datetime\n",
    "    dataframe.duration = dataframe.duration.apply(lambda t: t.total_seconds() / 60)\n",
    "    print(f\"Mean trip duration time: {dataframe.duration.mean()}m\")\n",
    "\n",
    "    # Filter outliers\n",
    "    dataframe = dataframe[(dataframe.duration >= 1) & (dataframe.duration <= 60)].copy()\n",
    "\n",
    "    # Fill and convert categorical values\n",
    "    dataframe[CATEGORICAL] = dataframe[CATEGORICAL].fillna(-1)\n",
    "    dataframe[CATEGORICAL] = dataframe[CATEGORICAL].astype(str)\n",
    "    print(f\"Percentage of values: {(df_jan.PUlocationID.value_counts(normalize=True) * 100)}%\")\n",
    "\n",
    "    return dataframe"
   ]
  },
  {
   "cell_type": "code",
   "execution_count": 58,
   "metadata": {},
   "outputs": [],
   "source": [
    "def train(x_train: pd.DataFrame, y_train: pd.DataFrame) -> LinearRegression:\n",
    "    \"\"\"Train a linear regression model.\"\"\"\n",
    "    lr = LinearRegression()\n",
    "    lr.fit(x_train, y_train)\n",
    "    return lr"
   ]
  },
  {
   "cell_type": "markdown",
   "metadata": {},
   "source": [
    "### Step 4: Import data"
   ]
  },
  {
   "cell_type": "code",
   "execution_count": 59,
   "metadata": {},
   "outputs": [
    {
     "name": "stdout",
     "output_type": "stream",
     "text": [
      "Retrieved dataset https://nyc-tlc.s3.amazonaws.com/trip+data/fhv_tripdata_2021-01.parquet of size (1154112, 7).\n",
      "Mean trip duration time: 19.167224093791006m\n",
      "Percentage of values: -1.0     83.527328\n",
      "221.0     0.750568\n",
      "206.0     0.612438\n",
      "129.0     0.484671\n",
      "115.0     0.367805\n",
      "           ...    \n",
      "111.0     0.000451\n",
      "27.0      0.000360\n",
      "34.0      0.000270\n",
      "2.0       0.000180\n",
      "110.0     0.000090\n",
      "Name: PUlocationID, Length: 262, dtype: float64%\n"
     ]
    }
   ],
   "source": [
    "df_jan = read_dataframe('https://nyc-tlc.s3.amazonaws.com/trip+data/fhv_tripdata_2021-01.parquet')"
   ]
  },
  {
   "cell_type": "code",
   "execution_count": 60,
   "metadata": {},
   "outputs": [
    {
     "name": "stdout",
     "output_type": "stream",
     "text": [
      "Retrieved dataset https://nyc-tlc.s3.amazonaws.com/trip+data/fhv_tripdata_2021-02.parquet of size (1037692, 7).\n",
      "Mean trip duration time: 20.706986225199763m\n",
      "Percentage of values: -1.0     83.527328\n",
      "221.0     0.750568\n",
      "206.0     0.612438\n",
      "129.0     0.484671\n",
      "115.0     0.367805\n",
      "           ...    \n",
      "111.0     0.000451\n",
      "27.0      0.000360\n",
      "34.0      0.000270\n",
      "2.0       0.000180\n",
      "110.0     0.000090\n",
      "Name: PUlocationID, Length: 262, dtype: float64%\n"
     ]
    }
   ],
   "source": [
    "df_feb = read_dataframe('https://nyc-tlc.s3.amazonaws.com/trip+data/fhv_tripdata_2021-02.parquet')"
   ]
  },
  {
   "cell_type": "markdown",
   "metadata": {},
   "source": [
    "### Step 5: Train model"
   ]
  },
  {
   "cell_type": "code",
   "execution_count": 61,
   "metadata": {},
   "outputs": [
    {
     "name": "stdout",
     "output_type": "stream",
     "text": [
      "RMSE for training: 10.528519395347283\n"
     ]
    }
   ],
   "source": [
    "# Create vectorizer\n",
    "train_dicts = df_jan[CATEGORICAL].to_dict(orient='records')\n",
    "vectorizer = DictVectorizer()\n",
    "\n",
    "# Train model\n",
    "x_train = vectorizer.fit_transform(train_dicts)\n",
    "model = train(x_train, df_jan[TARGET].values)\n",
    "\n",
    "# Evaluate model with training samples\n",
    "y_pred_train = model.predict(x_train)\n",
    "print(f\"RMSE for training: {mean_squared_error(df_jan[TARGET].values, y_pred_train, squared=False)}\")"
   ]
  },
  {
   "cell_type": "markdown",
   "metadata": {},
   "source": [
    "### Step 6: Evaluate model"
   ]
  },
  {
   "cell_type": "code",
   "execution_count": 62,
   "metadata": {},
   "outputs": [
    {
     "name": "stdout",
     "output_type": "stream",
     "text": [
      "RMSE for training: 11.014287883358007\n"
     ]
    }
   ],
   "source": [
    "# Create one hot encoding\n",
    "train_dicts = df_feb[CATEGORICAL].to_dict(orient='records')\n",
    "x_val = vectorizer.transform(train_dicts)\n",
    "\n",
    "# Evaluate model with new samples\n",
    "y_pred_val = model.predict(x_val)\n",
    "print(f\"RMSE for evaluation: {mean_squared_error(df_feb[TARGET].values, y_pred_val, squared=False)}\")"
   ]
  }
 ],
 "metadata": {
  "interpreter": {
   "hash": "6425d542b326045aacffe23d9694f100660f3c1d59dc026127ff78fe8ae32dca"
  },
  "kernelspec": {
   "display_name": "Python 3.9.12 ('zoomcamp')",
   "language": "python",
   "name": "python3"
  },
  "language_info": {
   "codemirror_mode": {
    "name": "ipython",
    "version": 3
   },
   "file_extension": ".py",
   "mimetype": "text/x-python",
   "name": "python",
   "nbconvert_exporter": "python",
   "pygments_lexer": "ipython3",
   "version": "3.9.12"
  },
  "orig_nbformat": 4
 },
 "nbformat": 4,
 "nbformat_minor": 2
}
